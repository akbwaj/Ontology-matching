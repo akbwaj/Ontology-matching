{
 "cells": [
  {
   "cell_type": "code",
   "execution_count": 1,
   "id": "abb7ac54",
   "metadata": {},
   "outputs": [],
   "source": [
    "#import all required files\n",
    "from owlready2 import *\n",
    "import json\n",
    "import os\n",
    "#import logging\n",
    "\n",
    "#path: location of scientific articles\n",
    "path = \"./data\"\n",
    "path_for_newFiles = \"./data_modified\"\n"
   ]
  },
  {
   "cell_type": "code",
   "execution_count": 2,
   "id": "95c2a119",
   "metadata": {},
   "outputs": [
    {
     "name": "stdout",
     "output_type": "stream",
     "text": [
      "******** Task 1: Ontology loaded, generating infoOfDiseases ********\n",
      "\n"
     ]
    }
   ],
   "source": [
    "def task1_loadOntology(ontology_name=\"doid.owl\"):\n",
    "\t\"\"\"\n",
    "\tThis function loads the disease ontology and returns a list of disease objects with DOID as the identifier.\n",
    "\t\"\"\"\n",
    "\tontology = get_ontology(ontology_name)\n",
    "\ttry:\n",
    "\t\tontology.load()\n",
    "\texcept owlready2.base.OwlReadyOntologyParsingError:\n",
    "\t\tontology = ontology.load()\n",
    "\n",
    "\tprint(\"******** Task 1: Ontology loaded, generating infoOfDiseases ********\\n\")\n",
    "\n",
    "\tinfoOfDiseases = [item for item in ontology.classes()]\n",
    "\treturn infoOfDiseases #[DOID_123,DOID_997...]\n",
    "\n",
    "infoOfDiseases = task1_loadOntology()\n"
   ]
  },
  {
   "cell_type": "code",
   "execution_count": 3,
   "id": "a4266fca",
   "metadata": {},
   "outputs": [
    {
     "name": "stdout",
     "output_type": "stream",
     "text": [
      "***** Task 2: Label to index location dictionary created  *****\n",
      "\n",
      "******* All files updated with DOID entries *******\n"
     ]
    }
   ],
   "source": [
    "def task2_3_extractLinkEntities(infoOfDiseases):\n",
    "\t\"\"\"\n",
    "\tThis function extracts scientific entities from articles and links them with entities in the ontology.\n",
    "\t\"\"\"\n",
    "    \n",
    "    #map disease names (and synonyms) to index location in list infoOfDisease\n",
    "\tmap_labelToLocation = {}\n",
    "\tfor i,each in enumerate(infoOfDiseases):\n",
    "\t\t#print(i,each)\n",
    "\t\tlabel = each.label[0]\n",
    "\t\tmap_labelToLocation[label] = i\n",
    "\n",
    "\t\ttry:\n",
    "\t\t\tsynonyms = each.hasExactSynonym\n",
    "\t\t\t#print(synonyms)\n",
    "\t\t\tif synonyms:\n",
    "\t\t\t\tfor synonym in synonyms:\n",
    "\t\t\t\t\tmap_labelToLocation[synonym] = i\n",
    "\t\texcept:\n",
    "\t\t\t#print(f'Object {each} does not have synonym')\n",
    "\t\t\tcontinue\n",
    "            \n",
    "\tprint(\"***** Task 2: Label to index location dictionary created  *****\\n\")\n",
    "    \n",
    "    #extracted_labels stores all extracted labels in each document with title as key - to be used in next task\n",
    "\textracted_labels = {}\n",
    "\tfor filename in os.listdir(path):\n",
    "\t\tif filename.endswith(\".json\"):\n",
    "\t\t\twith open(os.path.join(path,filename),\"r\") as article:\n",
    "\t\t\t\tarticle = json.load(article)\n",
    "\t\t\t\ttitle = article['metadata']['title']\n",
    "\t\t\t\tarticle = str(article)\n",
    "\t\t\t\tfor label in map_labelToLocation.keys():\n",
    "\t\t\t\t\tif label in article:\n",
    "                            #if title exists then append labels, else create a new key/title\n",
    "\t\t\t\t\t\t\textracted_labels[title] = extracted_labels.get(title,[])+[label]\n",
    "                            #add the DOID identifier to the label\n",
    "\t\t\t\t\t\t\tarticle = article.replace(label,(label +' <'+ infoOfDiseases[map_labelToLocation[label]].get_name(infoOfDiseases[map_labelToLocation[label]]) +'> '))\n",
    "\t\t\t\twith open(os.path.join(path_for_newFiles,filename),'w') as file:\n",
    "\t\t\t\t\ts = json.dump(article,file,indent=4,separators=(',', ': '))\n",
    "\t\t\t\t#print(f\"******* Written {filename} ********* \")\n",
    "\tprint(f\"******* All files updated with DOID entries *******\")\t\n",
    "\n",
    "\treturn (extracted_labels,map_labelToLocation,infoOfDiseases)\n",
    "\n",
    "extracted_labels,map_labelToLocation,infoOfDiseases = task2_3_extractLinkEntities(infoOfDiseases)\n"
   ]
  },
  {
   "cell_type": "code",
   "execution_count": 4,
   "id": "b19cf787",
   "metadata": {},
   "outputs": [
    {
     "name": "stdout",
     "output_type": "stream",
     "text": [
      "*********** Task 4 file entity relationship file created ***********\n",
      "\n"
     ]
    }
   ],
   "source": [
    "def task4_extractRelationship(extracted_labels,map_labelToLocation,infoOfDiseases):\n",
    "\n",
    "\t#Generate a unique set of labels\n",
    "\tlabels = [each for title in extracted_labels.keys() for each in extracted_labels[title]]\n",
    "\tunique_labels = set(labels)\n",
    "    \n",
    "    #Find labels, their parent and write it to a file\n",
    "\twith open(\"task4.txt\",\"w\") as filewrite:\n",
    "\t\tfor label in unique_labels:\n",
    "\t\t\tchild_doid_obj = infoOfDiseases[map_labelToLocation[label]]\n",
    "\t\t\tchild_label = child_doid_obj.label[0]\n",
    "\t\t\t#print(child_label)\n",
    "\t\t\tif child_label == \"disease\":\n",
    "\t\t\t\tcontinue\n",
    "            #find parent\n",
    "\t\t\tparent_doid = infoOfDiseases[map_labelToLocation[label]].is_a[0]\n",
    "\t\t\tindex_parent_doid_obj = infoOfDiseases.index(parent_doid)\n",
    "\t\t\tparent_doid_obj = infoOfDiseases[index_parent_doid_obj]\n",
    "\t\t\tparent_label = parent_doid_obj.label[0]\n",
    "\n",
    "\n",
    "\t\t\tfilewrite.write(f\"{child_label} <{str(child_doid_obj)}> is_a {parent_label} <{parent_doid}>\\n\")\n",
    "\n",
    "\tprint(f\"*********** Task 4 file entity relationship file created ***********\\n\")\n",
    "\n",
    "task4_extractRelationship(extracted_labels,map_labelToLocation,infoOfDiseases)\n",
    "\n"
   ]
  }
 ],
 "metadata": {
  "kernelspec": {
   "display_name": "Python 3",
   "language": "python",
   "name": "python3"
  },
  "language_info": {
   "codemirror_mode": {
    "name": "ipython",
    "version": 3
   },
   "file_extension": ".py",
   "mimetype": "text/x-python",
   "name": "python",
   "nbconvert_exporter": "python",
   "pygments_lexer": "ipython3",
   "version": "3.7.10"
  }
 },
 "nbformat": 4,
 "nbformat_minor": 5
}
